{
 "cells": [
  {
   "cell_type": "code",
   "execution_count": 29,
   "metadata": {},
   "outputs": [],
   "source": [
    "import torch\n",
    "import torch.nn as nn"
   ]
  },
  {
   "cell_type": "code",
   "execution_count": 2,
   "metadata": {},
   "outputs": [],
   "source": [
    "x = torch.tensor([[0,0], [0,1], [1,0], [1,1]], dtype=torch.float32)\n",
    "y = torch.tensor([0,1,1,0], dtype=torch.long)"
   ]
  },
  {
   "cell_type": "code",
   "execution_count": 3,
   "metadata": {},
   "outputs": [
    {
     "name": "stdout",
     "output_type": "stream",
     "text": [
      "data tensor: tensor([[0., 0.],\n",
      "        [0., 1.],\n",
      "        [1., 0.],\n",
      "        [1., 1.]])\n",
      "data size: torch.Size([4, 2])\n"
     ]
    }
   ],
   "source": [
    "print(\"data tensor:\", x)\n",
    "print(\"data size:\", x.shape)"
   ]
  },
  {
   "cell_type": "code",
   "execution_count": 4,
   "metadata": {},
   "outputs": [
    {
     "name": "stdout",
     "output_type": "stream",
     "text": [
      "target tensor: tensor([0, 1, 1, 0])\n",
      "target size: torch.Size([4])\n"
     ]
    }
   ],
   "source": [
    "print(\"target tensor:\", y)\n",
    "print(\"target size:\", y.shape)"
   ]
  },
  {
   "cell_type": "code",
   "execution_count": 5,
   "metadata": {},
   "outputs": [
    {
     "name": "stdout",
     "output_type": "stream",
     "text": [
      "target tensor: tensor([[0],\n",
      "        [1],\n",
      "        [1],\n",
      "        [0]])\n",
      "target size: torch.Size([4, 1])\n"
     ]
    }
   ],
   "source": [
    "Y = torch.tensor([[0],[1],[1],[0]], dtype=torch.long)\n",
    "print(\"target tensor:\", Y)\n",
    "print(\"target size:\", Y.shape)"
   ]
  },
  {
   "cell_type": "code",
   "execution_count": 6,
   "metadata": {},
   "outputs": [],
   "source": [
    "model = nn.Sequential(nn.Linear(2, 2),\n",
    "                      nn.Sigmoid(),\n",
    "                      nn.Linear(2, 1))"
   ]
  },
  {
   "cell_type": "code",
   "execution_count": 7,
   "metadata": {},
   "outputs": [
    {
     "name": "stdout",
     "output_type": "stream",
     "text": [
      "<bound method Module.parameters of Sequential(\n",
      "  (0): Linear(in_features=2, out_features=2, bias=True)\n",
      "  (1): Sigmoid()\n",
      "  (2): Linear(in_features=2, out_features=1, bias=True)\n",
      ")>\n",
      "original: tensor([[-0.1363,  0.3613],\n",
      "        [ 0.4285,  0.4860]])\n",
      "modified: tensor([[-0.1373,  0.3603],\n",
      "        [ 0.4275,  0.4850]])\n",
      "original: tensor([0.2516, 0.7032])\n",
      "modified: tensor([0.2506, 0.7022])\n",
      "original: tensor([[-0.4276, -0.3512]])\n",
      "modified: tensor([[-0.4286, -0.3522]])\n",
      "original: tensor([0.6786])\n",
      "modified: tensor([0.6776])\n"
     ]
    }
   ],
   "source": [
    "print(model.parameters)\n",
    "for w in model.parameters():\n",
    "    print(\"original:\", w.data)\n",
    "    print(\"modified:\", w.data.sub(0.001))"
   ]
  },
  {
   "cell_type": "code",
   "execution_count": 27,
   "metadata": {},
   "outputs": [
    {
     "name": "stdout",
     "output_type": "stream",
     "text": [
      "epoch 0 has loss 0.432595431804657\n",
      "epoch 100 has loss 0.47262778878211975\n",
      "epoch 200 has loss 0.4823967218399048\n",
      "epoch 300 has loss 0.48690512776374817\n",
      "epoch 400 has loss 0.48921656608581543\n",
      "epoch 500 has loss 0.49043384194374084\n",
      "epoch 600 has loss 0.4910796284675598\n",
      "epoch 700 has loss 0.49142301082611084\n",
      "epoch 800 has loss 0.49160557985305786\n",
      "epoch 900 has loss 0.4917028248310089\n"
     ]
    }
   ],
   "source": [
    "\n",
    "lr = 0.01\n",
    "epochs = 1000\n",
    "\n",
    "for epoch in range(epochs):\n",
    "    #forward pass\n",
    "    out = model.forward(x)\n",
    "#     print(\"the size of the model output\", out.size())\n",
    "    \n",
    "    #calculate residuals using MSE\n",
    "#     print(\"residuals:\", out - Y)\n",
    "#     print(\"residuals squared:\", (out-Y)**2)\n",
    "#     print(\"residuals mean error\", torch.mean((out - Y)**2))\n",
    "    \n",
    "    loss = torch.mean((out - Y)**2)\n",
    "#     print(loss)\n",
    "#     print(\"the size of the loss\", loss.size())\n",
    "    \n",
    "    #backpropogate error\n",
    "    loss.backward()\n",
    "    \n",
    "    #update model parameters using gradient descent\n",
    "    for w in model.parameters():\n",
    "#         print (\"the size of the gradient:\", w.grad.data.size())\n",
    "#         print (\"the size of the parameters:\", w.data.size())\n",
    "#         print (\"the size of the parameters - learning rate:\", (w.data -lr).size())\n",
    "        w.data = (w.data - lr) * (w.grad.data)\n",
    "#         print (\"the size of the parameters after update:\", w.data.size())\n",
    "        w.grad.data = torch.zeros_like(w.grad)\n",
    "#         print (\"the size of the gradient after update:\", w.grad.data.size())\n",
    "        \n",
    "    if epoch % 100 == 0:\n",
    "        print(f\"epoch {epoch} has loss {loss.item()}\")"
   ]
  },
  {
   "cell_type": "code",
   "execution_count": 28,
   "metadata": {},
   "outputs": [
    {
     "data": {
      "text/plain": [
       "tensor([0.0083], grad_fn=<AddBackward0>)"
      ]
     },
     "execution_count": 28,
     "metadata": {},
     "output_type": "execute_result"
    }
   ],
   "source": [
    "test_data = torch.tensor([0,1],dtype=torch.float32)\n",
    "model(test_data)"
   ]
  },
  {
   "cell_type": "code",
   "execution_count": null,
   "metadata": {},
   "outputs": [],
   "source": []
  }
 ],
 "metadata": {
  "kernelspec": {
   "display_name": "Python 3",
   "language": "python",
   "name": "python3"
  },
  "language_info": {
   "codemirror_mode": {
    "name": "ipython",
    "version": 3
   },
   "file_extension": ".py",
   "mimetype": "text/x-python",
   "name": "python",
   "nbconvert_exporter": "python",
   "pygments_lexer": "ipython3",
   "version": "3.6.7"
  }
 },
 "nbformat": 4,
 "nbformat_minor": 4
}
